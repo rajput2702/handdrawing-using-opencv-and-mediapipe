{
 "cells": [
  {
   "cell_type": "code",
   "execution_count": null,
   "id": "16de525f-4d10-4618-be3e-b07975d67063",
   "metadata": {},
   "outputs": [
    {
     "name": "stderr",
     "output_type": "stream",
     "text": [
      "WARNING: All log messages before absl::InitializeLog() is called are written to STDERR\n",
      "I0000 00:00:1755332324.058391  112395 gl_context.cc:369] GL version: 2.1 (2.1 Metal - 89.4), renderer: Apple M4\n",
      "INFO: Created TensorFlow Lite XNNPACK delegate for CPU.\n",
      "W0000 00:00:1755332324.062893  112703 inference_feedback_manager.cc:114] Feedback manager requires a model with a single signature inference. Disabling support for feedback tensors.\n",
      "W0000 00:00:1755332324.066657  112703 inference_feedback_manager.cc:114] Feedback manager requires a model with a single signature inference. Disabling support for feedback tensors.\n",
      "W0000 00:00:1755332326.086938  112705 landmark_projection_calculator.cc:186] Using NORM_RECT without IMAGE_DIMENSIONS is only supported for the square ROI. Provide IMAGE_DIMENSIONS or use PROJECTION_MATRIX.\n"
     ]
    }
   ],
   "source": [
    "import cv2\n",
    "import mediapipe as mp\n",
    "import numpy as np\n",
    "\n",
    "mp_hands = mp.solutions.hands\n",
    "mp_draw = mp.solutions.drawing_utils\n",
    "hands = mp_hands.Hands(min_detection_confidence=0.7, min_tracking_confidence=0.7)\n",
    "\n",
    "# OpenCV camera\n",
    "cap = cv2.VideoCapture(0)\n",
    "\n",
    "\n",
    "prev_x, prev_y = 0, 0\n",
    "\n",
    "\n",
    "canvas = None\n",
    "\n",
    "while True:\n",
    "    ret, frame = cap.read()\n",
    "    if not ret:\n",
    "        break\n",
    "\n",
    "    frame = cv2.flip(frame, 1)\n",
    "    \n",
    "    if canvas is None:\n",
    "        canvas = np.zeros_like(frame)\n",
    "    \n",
    "    rgb_frame = cv2.cvtColor(frame, cv2.COLOR_BGR2RGB)\n",
    "\n",
    "    # Process hand\n",
    "    result = hands.process(rgb_frame)\n",
    "\n",
    "    if result.multi_hand_landmarks:\n",
    "        for hand_landmarks in result.multi_hand_landmarks:\n",
    "            # Get index finger tip (landmark 8)\n",
    "            x = int(hand_landmarks.landmark[8].x * frame.shape[1])\n",
    "            y = int(hand_landmarks.landmark[8].y * frame.shape[0])\n",
    "\n",
    "            # If previous point exists, draw a line\n",
    "            if prev_x != 0 and prev_y != 0:\n",
    "                cv2.line(canvas, (prev_x, prev_y), (x, y), (255, 0, 0), 5)\n",
    "\n",
    "            prev_x, prev_y = x, y\n",
    "\n",
    "            # Draw landmarks on hand\n",
    "            mp_draw.draw_landmarks(frame, hand_landmarks, mp_hands.HAND_CONNECTIONS)\n",
    "\n",
    "    else:\n",
    "        # Reset when hand not detected\n",
    "        prev_x, prev_y = 0, 0\n",
    "\n",
    "    # Merge canvas and camera feed\n",
    "    output = cv2.add(frame, canvas)\n",
    "\n",
    "    cv2.imshow(\"Hand Drawing\", output)\n",
    "\n",
    "    if cv2.waitKey(1) & 0xFF == ord('q'):\n",
    "        break\n",
    "\n",
    "cap.release()\n",
    "cv2.destroyAllWindows()"
   ]
  },
  {
   "cell_type": "code",
   "execution_count": null,
   "id": "89e64e2c-5377-4ad1-91b3-cb92f7a6d9de",
   "metadata": {},
   "outputs": [],
   "source": []
  }
 ],
 "metadata": {
  "kernelspec": {
   "display_name": "Python [conda env:base] *",
   "language": "python",
   "name": "conda-base-py"
  },
  "language_info": {
   "codemirror_mode": {
    "name": "ipython",
    "version": 3
   },
   "file_extension": ".py",
   "mimetype": "text/x-python",
   "name": "python",
   "nbconvert_exporter": "python",
   "pygments_lexer": "ipython3",
   "version": "3.12.2"
  }
 },
 "nbformat": 4,
 "nbformat_minor": 5
}
